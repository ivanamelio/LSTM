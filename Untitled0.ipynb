{
 "metadata": {
  "name": "",
  "signature": "sha256:889a4386a92b354e9f55c13bacb4c11e5c32cea0b7e93e181c4c6fa3212103ce"
 },
 "nbformat": 3,
 "nbformat_minor": 0,
 "worksheets": []
}