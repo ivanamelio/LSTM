{
 "metadata": {
  "name": "",
  "signature": "sha256:ace1c34b4e47e57a6f6d934c31d3f4bb7ab2757b6e43f510e8b2e5f2b005bd7c"
 },
 "nbformat": 3,
 "nbformat_minor": 0,
 "worksheets": [
  {
   "cells": [
    {
     "cell_type": "code",
     "collapsed": false,
     "input": [
      "from package.dependences import *\n",
      "import package.metriche as mtr\n",
      "%matplotlib inline \n",
      "\n",
      "argv = ['none','120','output_gate=no', '1.', '20000']\n",
      "trained_lstm = 'trained/markov_memory_6.ckpt'\n",
      "\n",
      "Lgt = 400000\n",
      "num_nodes = int(argv[1])\n",
      "out_gate = argv[2]\n",
      "dropout_par = float(argv[3])\n",
      "n_train_steps = int(argv[4])\n",
      "batch_size=64\n",
      "num_unrollings=10\n",
      "\n",
      "with open('package/markov_data/markov_text_mem='+str(r)+'.txt', 'r') as myfile:\n",
      "    text=myfile.read()\n",
      "chain_stats = np.load('trained/stats_markov_memory_6.npz')\n",
      "LSTM_2_to_1 = chain_stats['a']\n",
      "LSTM_freq = chain_stats['b']"
     ],
     "language": "python",
     "metadata": {},
     "outputs": [],
     "prompt_number": 40
    },
    {
     "cell_type": "code",
     "collapsed": false,
     "input": [
      "valid_size = 2000  \n",
      "valid_text = text[(len(text)-valid_size):]\n",
      "execfile('package/lstm.py')\n",
      "neural_rec = neural_recordings(graph, trained_lstm, valid_text)"
     ],
     "language": "python",
     "metadata": {},
     "outputs": [],
     "prompt_number": 46
    },
    {
     "cell_type": "code",
     "collapsed": false,
     "input": [
      "print neural_rec.keys()\n",
      "print neural_rec['sftmx'].shape"
     ],
     "language": "python",
     "metadata": {},
     "outputs": [
      {
       "output_type": "stream",
       "stream": "stdout",
       "text": [
        "['sftmx', 'in_sw', 'activity', 'f_sw']\n",
        "(2000, 4)\n"
       ]
      }
     ],
     "prompt_number": 53
    },
    {
     "cell_type": "code",
     "collapsed": false,
     "input": [],
     "language": "python",
     "metadata": {},
     "outputs": []
    }
   ],
   "metadata": {}
  }
 ]
}