{
 "metadata": {
  "name": "",
  "signature": "sha256:4d66e04dac8232fa455d4094bc206eabddabe891eaff75ed67f993823df8083e"
 },
 "nbformat": 3,
 "nbformat_minor": 0,
 "worksheets": [
  {
   "cells": [
    {
     "cell_type": "code",
     "collapsed": false,
     "input": [
      "#!/usr/bin/python\n",
      "\n",
      "\n",
      "# coding: utf-8\n",
      "\n",
      "#\n",
      "# Extract Markov transition probabilities (r=2) from the first 39 a, c, e, h  of wikipedia\n",
      "# and generate a fictious text, storing it in markov_text.txt\n",
      "#\n",
      "\n",
      "\n",
      "# These are all the modules we'll be using later. Make sure you can import them\n",
      "# before proceeding further.\n",
      "\n",
      "\n",
      "\n",
      "#argv = sys.argv\n",
      "#assert len(sys.argv) == 2from __future__ import print_function\n",
      "\n",
      "\n",
      "import os\n",
      "import datetime\n",
      "import numpy as np\n",
      "import random\n",
      "import string\n",
      "import tensorflow as tf\n",
      "import zipfile\n",
      "from six.moves import range\n",
      "from six.moves.urllib.request import urlretrieve\n",
      "import datetime\n",
      "import sys"
     ],
     "language": "python",
     "metadata": {},
     "outputs": [],
     "prompt_number": 1
    },
    {
     "cell_type": "code",
     "collapsed": false,
     "input": [
      "############## Markov states ############\n",
      "\n",
      "def read_data(filename):\n",
      "\tf = zipfile.ZipFile(filename)\n",
      "\tfor name in f.namelist():\n",
      "\t\treturn tf.compat.as_str(f.read(name))\n",
      "\tf.close()\n",
      "markov_text_0 = read_data('/home/ivan/Desktop/udacity_courses/corso_DL/tensorflow/tensorflow/examples/udacity/text8.zip')\n",
      "\n",
      "\n",
      "\n",
      "state_dict = ['a','c','e','h']        ##   <<<<<<<<---------------\n",
      "n_states = len(state_dict)\n",
      "\n",
      "def togli_altre_lettere(text):\n",
      "\tmarkov_text = ''\n",
      "\tfor i in range(len(text)):\n",
      "\t\tif text[i] in state_dict:\n",
      "\t\t\tmarkov_text+=text[i]\n",
      "\treturn markov_text\n",
      "markov_text = togli_altre_lettere(markov_text_0)"
     ],
     "language": "python",
     "metadata": {},
     "outputs": [],
     "prompt_number": 2
    },
    {
     "cell_type": "code",
     "collapsed": false,
     "input": [
      "print('='*10)\n",
      "print(markov_text[:750])\n",
      "print('='*10)"
     ],
     "language": "python",
     "metadata": {},
     "outputs": [
      {
       "output_type": "stream",
       "stream": "stdout",
       "text": [
        "==========\n",
        "aachaeaaeaeeaaeacaacacheeheeheaheaceheechehheeeaeaeaeceaachaeeeaeheaacehaaeeaeaaeaeeeeaachheaacheeheeehachecheaachaacahhheeehaeaeeceaaheaheahhheeaeeeeahaheaaachaeeeaecaeehaacaeheeaahaaacaheaeheaachaaacheechahaeaheahaaahaaceacehaaeeaeaahaacaceaceceeccaachacaecaeaaeaacaaaaaaeeaceheaacheaeehaaaaachaeehaheeeeeaeeceheeeaahaaachcehaceaeecaheececcheeaaeeeahaeecehehaaeeceaheaehaeeecehhaceaaeaachceahaeeeehaheaheeaeeeaaaaaceaaccaeeaheceeaahaeaacceeceaaachcheheaachaaahaaachaeaacechaaeacecacceeaeheeceheaeeeaeeaacaeheeeheaaheaheaaaehceeeaeeeceeeeeeeaacheaehheehhehaheaaaeaeaacehehehaheaeeaeeehehheeheaeacheeeeeeeeaeacceeheeheehcaaaeceeeaeeeaachheeeaheeheeeaehhehachaaaaaeahaheaaeaaeeeaeeeeeheeheeheeceheeaecacehchhaaeaeaeeaeaacheeaaeaaaeaeheaecaaeehaeeaeaeh\n",
        "==========\n"
       ]
      }
     ],
     "prompt_number": 7
    },
    {
     "cell_type": "code",
     "collapsed": false,
     "input": [
      "argv = ['ttt', 5]\n",
      "r = argv[1] #memory\n",
      "\n",
      "\n",
      "\n",
      "\n",
      "\n",
      "# Utility functions to map characters to vocabulary IDs and back.\n",
      "\n",
      "# In[10]:\n",
      "\n",
      "############   character <-> number  functions\n",
      "\n",
      "vocabulary_size = n_states\n",
      "\n",
      "def char2id(char):\n",
      "\tif len(char) == 1:\n",
      "\t\treturn state_dict.index(char)\n",
      "\tif len(char) == 2:\n",
      "\t\treturn state_dict.index(char[0])*n_states+state_dict.index(char[1])\n",
      "\telse:\n",
      "\t\tidn = 0\n",
      "\t\tfor i in range(len(char)):\n",
      "\t\t\tidn += state_dict.index(char[len(char)-i-1])*(n_states**i)\n",
      "\t\treturn idn\n",
      "\n",
      "def id2char(num_id):  # inversa di char2id\n",
      "\treturn state_dict[num_id]\n",
      "\n",
      "def matrix_element2char(i):  # inversa di char2id\n",
      "\ts = ''\n",
      "\tfor j in range(r):\n",
      "\t\tk = r-j-1\n",
      "\t\tdivs = n_states**k\n",
      "\t\ts += state_dict[i/divs]\n",
      "\t\ti = i%divs\n",
      "\treturn s\n",
      "\n",
      "\n",
      "\n",
      "\n",
      "\n",
      "\n",
      "\n",
      "# In[11]:\n",
      "\n",
      "################   create Markov matrix from a short text, so to have some forbidden states and some forbidden transitions\n",
      "# warning! a state is forbidden iff has zero frequency in freq_dist\n",
      "# but this iff statement holds if the last two letters of the text had already appeared...\n",
      "\n",
      "#def togli_coda(text):\n",
      "#    coda = len(text)\n",
      "#    while coda >len(text)/2:\n",
      "#        for j in range(coda-2):\n",
      "#            if text[j]==text[coda-2] and text[j+1]==text[coda-1]:\n",
      "#                return text[:coda]\n",
      "#        coda = coda - 1\n",
      "#    assert 0 >1\n",
      "#print(togli_coda(markov_text[:40]))\n",
      "\n",
      "def estrai_matrice_0(markov_text, L, verbose=False):\n",
      "\tM_2_to_1 = np.zeros((n_states**r, n_states))\n",
      "\tfor i in range(len(markov_text)-r):\n",
      "\t\ts = markov_text[i:(i+r)]\n",
      "\t\tif i > L and M_2_to_1[char2id(s),:].sum()>0.:\n",
      "\t\t\tprint(i,s)\n",
      "\t\t\tbreak\n",
      "\t\tM_2_to_1[char2id(s),char2id(markov_text[i+r])]+=1.\n",
      "\n",
      "\n",
      "\n",
      "\tfreq_dict = {}\n",
      "\tzeri_list = []\n",
      "\tfor i in range(len(M_2_to_1)):\n",
      "\t\tfreq_dict[matrix_element2char(i)] =  np.sum(M_2_to_1[i,:])/np.sum(M_2_to_1)\n",
      "\t\tif verbose:\n",
      "\t\t\tsys.stdout.write('frequency  ' + matrix_element2char(i)+ '  ->  ' + str(freq_dict[matrix_element2char(i)]) +'\\n')\n",
      "\t\tif freq_dict[matrix_element2char(i)] == 0:   #pulisce eventuali righe di zeri\n",
      "\t\t\tzeri_list.append(matrix_element2char(i))\n",
      "\t\t\tfor j in range(len(M_2_to_1[0])):\n",
      "\t\t\t\tM_2_to_1[i,j] = 1.\n",
      "\n",
      "\n",
      "\tM_2_to_1 = M_2_to_1/np.sum(M_2_to_1, axis = 1)[:,None]\n",
      "    \n",
      "\tif verbose:\n",
      "\t\tfor i in range(len(M_2_to_1)):\n",
      "\t\t\tfor j in range(len(M_2_to_1[0])):\n",
      "\t\t\t\tsys.stdout.write('prob  ' + matrix_element2char(i) + '  ->  ' + id2char(j) + ' :  ' + '%.2f'  % M_2_to_1[i,j]+'\\n')\n",
      "\t#print(M_2_to_1)\n",
      "\n",
      "\tMarkov_dict = {}\n",
      "\tfor i in range(len(M_2_to_1)):\n",
      "\t\tMarkov_dict[matrix_element2char(i)] =  M_2_to_1[i,:]\n",
      "\t#print(Markov_dict)\n",
      "\treturn M_2_to_1, Markov_dict, freq_dict, zeri_list\n",
      "\n",
      "def estrai_matrice(text):\n",
      "    return estrai_matrice_0(text, len(text), verbose=False)\n",
      "\n",
      "tr_M, Markov_dict, freq_dict, zeri_list = estrai_matrice_0(markov_text[:10000], 2000, verbose=False)\n"
     ],
     "language": "python",
     "metadata": {},
     "outputs": [
      {
       "output_type": "stream",
       "stream": "stdout",
       "text": [
        "(2004, 'cheac')\n"
       ]
      }
     ],
     "prompt_number": 30
    },
    {
     "cell_type": "code",
     "collapsed": false,
     "input": [
      "def Markov_choice(s, n_states, state_dict, Markov_dict):\n",
      "\trr = -np.random.rand()\n",
      "\tfor x in range(n_states):\n",
      "\t\trr += Markov_dict[s][x]\n",
      "\t\tif rr >= 0:\n",
      "\t\t\treturn state_dict[x]\n",
      "\n",
      "\n",
      "def genera_dati(L, n_states, state_dict, r, Markov_dict, inizio_markov_text):\n",
      "\ttext = inizio_markov_text\n",
      "\tfor i in range(r,L-1):\n",
      "\t\tnuovo=Markov_choice(text[(i-r):i], n_states, state_dict, Markov_dict)\n",
      "\t\ttext+=nuovo\n",
      "\treturn text\n",
      "text = genera_dati(10000000, n_states, state_dict, r, Markov_dict, markov_text[:r])   #.........  deve essere una stringa\n",
      "#datasize want to be order 10^8\n",
      "#print(text[:1000])\n",
      "gen_tr_M, gen_Markov_dict, gen_freq_dict, gen_zeri_list = estrai_matrice(text[:400000])  # e' essenziale per capire 1) se partendo da stato permesso a caso catena tocca tutti stati ammessi\n",
      "\t\t\t\t\t\t\t#2) non tocca stati proibiti\n",
      "# le frequenze di text non sono le stesse di\n",
      "\n",
      "\n",
      "with open('markov_text_mem=' + str(r) +'.txt', 'w') as myfile:\n",
      "    myfile.write(text)\n",
      "\n",
      "\n",
      "zeri_id = np.array(map(char2id, zeri_list))\n",
      "np.savez('chain_stats_mem=' + str(r) +'.npz', a=tr_M, b=zeri_id)\n",
      "\n"
     ],
     "language": "python",
     "metadata": {},
     "outputs": [],
     "prompt_number": 31
    },
    {
     "cell_type": "code",
     "collapsed": false,
     "input": [
      "print(set.symmetric_difference(set(zeri_list), set(gen_zeri_list)))\n",
      "print(gen_zeri_list==zeri_list)\n",
      "print(abs(tr_M-gen_tr_M).max())\n",
      "print(np.sqrt((((tr_M-gen_tr_M)**2)).mean()))\n",
      "f1 = np.array(freq_dict.values())\n",
      "f2 = np.array(gen_freq_dict.values())\n",
      "print(abs(f1-f2).max())\n",
      "print(np.sqrt((((f1-f2)**2)).mean()))"
     ],
     "language": "python",
     "metadata": {},
     "outputs": [
      {
       "output_type": "stream",
       "stream": "stdout",
       "text": [
        "set([])\n",
        "True\n",
        "0.0766233766234\n",
        "0.00825047257271\n",
        "0.00453512708046\n",
        "0.000585203252762\n"
       ]
      }
     ],
     "prompt_number": 32
    },
    {
     "cell_type": "code",
     "collapsed": false,
     "input": [
      "def rate_difference(tr_M_ref, tr_M, zeri_list_ref):\n",
      "    assert tr_M_ref.shape == tr_M.shape\n",
      "    matrice = []\n",
      "    for i in range(len(tr_M_ref)):\n",
      "        if matrix_element2char(i) not in zeri_list_ref:\n",
      "            matrice.append(tr_M_ref[i]-tr_M[i])\n",
      "    matrice = np.array(matrice)\n",
      "    return np.sqrt((matrice**2).mean())\n",
      "\n",
      "    \n"
     ],
     "language": "python",
     "metadata": {},
     "outputs": [],
     "prompt_number": 65
    },
    {
     "cell_type": "code",
     "collapsed": false,
     "input": [
      "aa = [np.random.rand(6), np.empty(6)]\n",
      "bb = np.array(aa)\n",
      "bb\n",
      "bb[0]"
     ],
     "language": "python",
     "metadata": {},
     "outputs": [
      {
       "metadata": {},
       "output_type": "pyout",
       "prompt_number": 56,
       "text": [
        "array([ 0.0950685 ,  0.37062118,  0.07972287,  0.3608971 ,  0.72569476,\n",
        "        0.93507146])"
       ]
      }
     ],
     "prompt_number": 56
    },
    {
     "cell_type": "code",
     "collapsed": false,
     "input": [
      "argv = ['ttt', 6]\n",
      "r = argv[1] #memory"
     ],
     "language": "python",
     "metadata": {},
     "outputs": [],
     "prompt_number": 34
    },
    {
     "cell_type": "code",
     "collapsed": false,
     "input": [
      "tr_M, Markov_dict, freq_dict, zeri_list = estrai_matrice_0(markov_text[:10000],8000,verbose=False)\n",
      "text = genera_dati(10000000, n_states, state_dict, r, Markov_dict, markov_text[:r])   #.........  deve essere una stringa\n",
      "#datasize want to be order 10^8\n",
      "#print(text[:1000])\n",
      "gen_tr_M, gen_Markov_dict, gen_freq_dict, gen_zeri_list = estrai_matrice(text[:400000])  \n",
      "\n",
      "with open('markov_text_mem=' + str(r) +'.txt', 'w') as myfile:\n",
      "    myfile.write(text)\n",
      "\n",
      "\n",
      "zeri_id = np.array(map(char2id, zeri_list))\n",
      "np.savez('chain_stats_mem=' + str(r) +'.npz', a=tr_M, b=zeri_id)\n",
      "\n"
     ],
     "language": "python",
     "metadata": {},
     "outputs": [
      {
       "output_type": "stream",
       "stream": "stdout",
       "text": [
        "(8001, 'achcaa')\n"
       ]
      }
     ],
     "prompt_number": 35
    },
    {
     "cell_type": "code",
     "collapsed": false,
     "input": [
      "print(set.symmetric_difference(set(zeri_list), set(gen_zeri_list)))\n",
      "print(gen_zeri_list==zeri_list)\n",
      "print(abs(tr_M-gen_tr_M).max())\n",
      "print(np.sqrt((((tr_M-gen_tr_M)**2)).mean()))\n",
      "f1 = np.array(freq_dict.values())\n",
      "f2 = np.array(gen_freq_dict.values())\n",
      "print(abs(f1-f2).max())\n",
      "print(np.sqrt((((f1-f2)**2)).mean()))"
     ],
     "language": "python",
     "metadata": {},
     "outputs": [
      {
       "output_type": "stream",
       "stream": "stdout",
       "text": [
        "set([])\n",
        "True\n",
        "0.153846153846\n",
        "0.0146288456562\n",
        "0.00202152738272\n",
        "0.000155037948563\n"
       ]
      }
     ],
     "prompt_number": 36
    },
    {
     "cell_type": "code",
     "collapsed": false,
     "input": [
      "########  how much a Markov generated text actually depends on long-time dependences?\n",
      "\n",
      "r = 6\n",
      "Ll = 1000000\n",
      "_,_,_,_ = estrai_matrice_0(markov_text[:10000],8000,verbose=False)\n",
      "text = genera_dati(Ll, n_states, state_dict, r, Markov_dict, markov_text[:r])\n",
      "gen_tr_M, gen_Markov_dict, gen_freq_dict, gen_zeri_list = estrai_matrice(text[:Ll])\n",
      "r=3\n",
      "fake_tr_M, fake_Markov_dict, fake_freq_dict, fake_zeri_list = estrai_matrice_0(text[:10000],8000,verbose=False)\n",
      "text = genera_dati(Ll, n_states, state_dict, r, fake_Markov_dict, text[:r])\n",
      "r=6\n",
      "fake_gen_tr_M, fake_gen_Markov_dict, fake_gen_freq_dict, fake_gen_zeri_list = estrai_matrice(text[:Ll])"
     ],
     "language": "python",
     "metadata": {},
     "outputs": [
      {
       "output_type": "stream",
       "stream": "stdout",
       "text": [
        "(8001, 'achcaa')\n",
        "(8001, 'ach')"
       ]
      },
      {
       "output_type": "stream",
       "stream": "stdout",
       "text": [
        "\n"
       ]
      }
     ],
     "prompt_number": 37
    },
    {
     "cell_type": "code",
     "collapsed": false,
     "input": [
      "print(set.symmetric_difference(set(zeri_list), set(gen_zeri_list)))\n",
      "print(gen_zeri_list==zeri_list)\n",
      "print(abs(tr_M-gen_tr_M).max())\n",
      "print(np.sqrt((((tr_M-gen_tr_M)**2)).mean()))\n",
      "f1 = np.array(freq_dict.values())\n",
      "f2 = np.array(gen_freq_dict.values())\n",
      "print(abs(f1-f2).max())\n",
      "print(np.sqrt((((f1-f2)**2)).mean()))"
     ],
     "language": "python",
     "metadata": {},
     "outputs": [
      {
       "output_type": "stream",
       "stream": "stdout",
       "text": [
        "set([])\n",
        "True\n",
        "0.0974025974026\n",
        "0.00909144248306\n",
        "0.00208116424304\n",
        "0.000155694795509\n"
       ]
      }
     ],
     "prompt_number": 38
    },
    {
     "cell_type": "code",
     "collapsed": false,
     "input": [
      "#print(set.symmetric_difference(set(fake_gen_zeri_list), set(gen_zeri_list)))\n",
      "print(gen_zeri_list==fake_gen_zeri_list)\n",
      "print(abs(fake_gen_tr_M-gen_tr_M).max())\n",
      "print(np.sqrt((((fake_gen_tr_M-gen_tr_M)**2)).mean()))\n",
      "f1 = np.array(fake_gen_freq_dict.values())\n",
      "f2 = np.array(gen_freq_dict.values())\n",
      "print(abs(f1-f2).max())\n",
      "print(np.sqrt((((f1-f2)**2)).mean()))"
     ],
     "language": "python",
     "metadata": {},
     "outputs": [
      {
       "output_type": "stream",
       "stream": "stdout",
       "text": [
        "False\n",
        "1.0\n",
        "0.256976851202\n",
        "0.00137631561863\n",
        "0.000178265041201\n"
       ]
      }
     ],
     "prompt_number": 40
    },
    {
     "cell_type": "code",
     "collapsed": false,
     "input": [
      "text = genera_dati(Ll+30, n_states, state_dict, r, gen_Markov_dict, markov_text[:r])\n",
      "gen_tr_M_2, gen_Markov_dict_2, gen_freq_dict_2, gen_zeri_list_2 = estrai_matrice(text[:Ll])\n",
      "print(set.symmetric_difference(set(gen_zeri_list_2), set(gen_zeri_list)))\n",
      "print(gen_zeri_list==gen_zeri_list_2)\n",
      "print(abs(gen_tr_M_2-gen_tr_M).max())\n",
      "print(np.sqrt((((gen_tr_M_2-gen_tr_M)**2)).mean()))\n",
      "f1 = np.array(gen_freq_dict_2.values())\n",
      "f2 = np.array(gen_freq_dict.values())\n",
      "print(abs(f1-f2).max())\n",
      "print(np.sqrt((((f1-f2)**2)).mean()))\n",
      "#valori di riferimento r=6, r'=6   <<<<<<<<<<<<<<<<<<<<<<<<<<<<<<<<<<--------------------------------------------------------"
     ],
     "language": "python",
     "metadata": {},
     "outputs": [
      {
       "output_type": "stream",
       "stream": "stdout",
       "text": [
        "set([])\n",
        "True\n",
        "0.0945879973498\n",
        "0.00894239439617\n",
        "0.000142978745083\n",
        "1.58159049036e-05\n"
       ]
      }
     ],
     "prompt_number": 41
    },
    {
     "cell_type": "code",
     "collapsed": false,
     "input": [
      "#print(set.symmetric_difference(set(fake_gen_zeri_list), set(gen_zeri_list_2)))\n",
      "print(gen_zeri_list_2==fake_gen_zeri_list)\n",
      "print(abs(fake_gen_tr_M-gen_tr_M_2).max())\n",
      "print(np.sqrt((((fake_gen_tr_M-gen_tr_M_2)**2)).mean()))\n",
      "f1 = np.array(fake_gen_freq_dict.values())\n",
      "f2 = np.array(gen_freq_dict_2.values())\n",
      "print(abs(f1-f2).max())\n",
      "print(np.sqrt((((f1-f2)**2)).mean()))"
     ],
     "language": "python",
     "metadata": {},
     "outputs": [
      {
       "output_type": "stream",
       "stream": "stdout",
       "text": [
        "False\n",
        "1.0\n",
        "0.257197909754\n",
        "0.00147322876142\n",
        "0.000179345286614\n"
       ]
      }
     ],
     "prompt_number": 42
    },
    {
     "cell_type": "code",
     "collapsed": false,
     "input": [
      "#so: inferring a Markov model with r=6 using a r=3 model gives statistically relevant errors:\n",
      "# error in transition rates x100\n",
      "# error in transition rates x10\n",
      "# error in forbidden states:\n",
      "z_err=0.\n",
      "for pattern in zeri_list:\n",
      "    z_err+=fake_gen_freq_dict[pattern]\n",
      "print(z_err)"
     ],
     "language": "python",
     "metadata": {},
     "outputs": [
      {
       "output_type": "stream",
       "stream": "stdout",
       "text": [
        "0.0836289870154\n"
       ]
      }
     ],
     "prompt_number": 43
    },
    {
     "cell_type": "code",
     "collapsed": false,
     "input": [
      "### remake the same with r=6, r' = 4\n",
      "r = 6\n",
      "Ll = 1000000\n",
      "_,_,_,_ = estrai_matrice_0(markov_text[:10000],8000,verbose=False)\n",
      "text = genera_dati(Ll, n_states, state_dict, r, Markov_dict, markov_text[:r])\n",
      "gen_tr_M, gen_Markov_dict, gen_freq_dict, gen_zeri_list = estrai_matrice(text[:Ll])\n",
      "r=4\n",
      "fake_tr_M, fake_Markov_dict, fake_freq_dict, fake_zeri_list = estrai_matrice_0(text[:10000],8000,verbose=False)\n",
      "text = genera_dati(Ll, n_states, state_dict, r, fake_Markov_dict, text[:r])\n",
      "r=6\n",
      "fake_gen_tr_M, fake_gen_Markov_dict, fake_gen_freq_dict, fake_gen_zeri_list = estrai_matrice(text[:Ll])\n"
     ],
     "language": "python",
     "metadata": {},
     "outputs": [
      {
       "output_type": "stream",
       "stream": "stdout",
       "text": [
        "(8001, 'achcaa')\n",
        "(8001, 'aach')"
       ]
      },
      {
       "output_type": "stream",
       "stream": "stdout",
       "text": [
        "\n"
       ]
      }
     ],
     "prompt_number": 48
    },
    {
     "cell_type": "code",
     "collapsed": false,
     "input": [
      "#print(set.symmetric_difference(set(fake_gen_zeri_list), set(gen_zeri_list)))\n",
      "print(gen_zeri_list==fake_gen_zeri_list)\n",
      "print(abs(fake_gen_tr_M-gen_tr_M).max())\n",
      "print(np.sqrt((((fake_gen_tr_M-gen_tr_M)**2)).mean()))\n",
      "print(rate_difference(fake_gen_tr_M, gen_tr_M, gen_zeri_list))\n",
      "f1 = np.array(fake_gen_freq_dict.values())\n",
      "f2 = np.array(gen_freq_dict.values())\n",
      "print(abs(f1-f2).max())\n",
      "print(np.sqrt((((f1-f2)**2)).mean()))"
     ],
     "language": "python",
     "metadata": {},
     "outputs": [
      {
       "output_type": "stream",
       "stream": "stdout",
       "text": [
        "False\n",
        "1.0\n",
        "0.239925293131\n",
        "0.299687770904"
       ]
      },
      {
       "output_type": "stream",
       "stream": "stdout",
       "text": [
        "\n",
        "0.0013725810345\n",
        "0.000173686586309\n"
       ]
      }
     ],
     "prompt_number": 66
    },
    {
     "cell_type": "code",
     "collapsed": false,
     "input": [
      "z_err=0.\n",
      "for pattern in zeri_list:\n",
      "    z_err+=fake_gen_freq_dict[pattern]\n",
      "print(z_err)"
     ],
     "language": "python",
     "metadata": {},
     "outputs": [
      {
       "output_type": "stream",
       "stream": "stdout",
       "text": [
        "0.0521192399176\n"
       ]
      }
     ],
     "prompt_number": 50
    },
    {
     "cell_type": "code",
     "collapsed": false,
     "input": [
      "### remake the same with r=6, r' = 5\n",
      "r = 6\n",
      "Ll = 1000000\n",
      "_,_,_,_ = estrai_matrice_0(markov_text[:10000],8000,verbose=False)\n",
      "text = genera_dati(Ll, n_states, state_dict, r, Markov_dict, markov_text[:r])\n",
      "gen_tr_M, gen_Markov_dict, gen_freq_dict, gen_zeri_list = estrai_matrice(text[:Ll])\n",
      "r=5\n",
      "fake_tr_M, fake_Markov_dict, fake_freq_dict, fake_zeri_list = estrai_matrice_0(text[:10000],8000,verbose=False)\n",
      "text = genera_dati(Ll, n_states, state_dict, r, fake_Markov_dict, text[:r])\n",
      "r=6\n",
      "fake_gen_tr_M, fake_gen_Markov_dict, fake_gen_freq_dict, fake_gen_zeri_list = estrai_matrice(text[:Ll])"
     ],
     "language": "python",
     "metadata": {},
     "outputs": [
      {
       "output_type": "stream",
       "stream": "stdout",
       "text": [
        "(8001, 'achcaa')\n",
        "(8001, 'aeaaa')"
       ]
      },
      {
       "output_type": "stream",
       "stream": "stdout",
       "text": [
        "\n"
       ]
      }
     ],
     "prompt_number": 67
    },
    {
     "cell_type": "code",
     "collapsed": false,
     "input": [
      "#print(set.symmetric_difference(set(fake_gen_zeri_list), set(gen_zeri_list)))\n",
      "print(gen_zeri_list==fake_gen_zeri_list)\n",
      "print(abs(fake_gen_tr_M-gen_tr_M).max())\n",
      "print(np.sqrt((((fake_gen_tr_M-gen_tr_M)**2)).mean()))\n",
      "print(rate_difference(fake_gen_tr_M, gen_tr_M, gen_zeri_list))\n",
      "f1 = np.array(fake_gen_freq_dict.values())\n",
      "f2 = np.array(gen_freq_dict.values())\n",
      "print(abs(f1-f2).max())\n",
      "print(np.sqrt((((f1-f2)**2)).mean()))"
     ],
     "language": "python",
     "metadata": {},
     "outputs": [
      {
       "output_type": "stream",
       "stream": "stdout",
       "text": [
        "False\n",
        "0.979166666667\n",
        "0.200354240743\n",
        "0.274442676021"
       ]
      },
      {
       "output_type": "stream",
       "stream": "stdout",
       "text": [
        "\n",
        "0.0020211099438\n",
        "0.000184222434411\n"
       ]
      }
     ],
     "prompt_number": 68
    },
    {
     "cell_type": "code",
     "collapsed": false,
     "input": [
      "z_err=0.\n",
      "for pattern in zeri_list:\n",
      "    z_err+=fake_gen_freq_dict[pattern]\n",
      "print(z_err)"
     ],
     "language": "python",
     "metadata": {},
     "outputs": [
      {
       "output_type": "stream",
       "stream": "stdout",
       "text": [
        "0.0\n"
       ]
      }
     ],
     "prompt_number": 69
    },
    {
     "cell_type": "code",
     "collapsed": false,
     "input": [
      "### remake the same with r=6 in length\n",
      "r = 6\n",
      "Lll = 10000000\n",
      "_,_,_,_ = estrai_matrice_0(markov_text[:10000],8000,verbose=False)\n",
      "text = genera_dati(Lll, n_states, state_dict, r, Markov_dict, markov_text[:r])\n",
      "gen_tr_M, gen_Markov_dict, gen_freq_dict, gen_zeri_list = estrai_matrice(text[:Ll])\n",
      "text = genera_dati(Lll, n_states, state_dict, r, gen_Markov_dict, markov_text[:r])\n",
      "\n",
      "   "
     ],
     "language": "python",
     "metadata": {},
     "outputs": [
      {
       "output_type": "stream",
       "stream": "stdout",
       "text": [
        "(8001, 'achcaa')\n",
        "(1000, '  ', 0.0, '  ', 0.0039749456543507243)"
       ]
      },
      {
       "output_type": "stream",
       "stream": "stdout",
       "text": [
        "\n",
        "(10000, '  ', 0.0, '  ', 0.0039749456543507243)"
       ]
      },
      {
       "output_type": "stream",
       "stream": "stdout",
       "text": [
        "\n"
       ]
      },
      {
       "ename": "KeyboardInterrupt",
       "evalue": "",
       "output_type": "pyerr",
       "traceback": [
        "\u001b[0;31m---------------------------------------------------------------------------\u001b[0m\n\u001b[0;31mKeyboardInterrupt\u001b[0m                         Traceback (most recent call last)",
        "\u001b[0;32m<ipython-input-71-720f1c224d2b>\u001b[0m in \u001b[0;36m<module>\u001b[0;34m()\u001b[0m\n\u001b[1;32m      7\u001b[0m \u001b[0mtext\u001b[0m \u001b[0;34m=\u001b[0m \u001b[0mgenera_dati\u001b[0m\u001b[0;34m(\u001b[0m\u001b[0mLll\u001b[0m\u001b[0;34m,\u001b[0m \u001b[0mn_states\u001b[0m\u001b[0;34m,\u001b[0m \u001b[0mstate_dict\u001b[0m\u001b[0;34m,\u001b[0m \u001b[0mr\u001b[0m\u001b[0;34m,\u001b[0m \u001b[0mgen_Markov_dict\u001b[0m\u001b[0;34m,\u001b[0m \u001b[0mmarkov_text\u001b[0m\u001b[0;34m[\u001b[0m\u001b[0;34m:\u001b[0m\u001b[0mr\u001b[0m\u001b[0;34m]\u001b[0m\u001b[0;34m)\u001b[0m\u001b[0;34m\u001b[0m\u001b[0m\n\u001b[1;32m      8\u001b[0m \u001b[0;32mfor\u001b[0m \u001b[0mi\u001b[0m \u001b[0;32min\u001b[0m \u001b[0;34m[\u001b[0m\u001b[0;36m1000\u001b[0m\u001b[0;34m,\u001b[0m \u001b[0;36m10000\u001b[0m\u001b[0;34m,\u001b[0m \u001b[0;36m10000\u001b[0m\u001b[0;34m,\u001b[0m \u001b[0;36m100000\u001b[0m\u001b[0;34m,\u001b[0m \u001b[0;36m1000000\u001b[0m\u001b[0;34m,\u001b[0m \u001b[0;36m9999900\u001b[0m\u001b[0;34m]\u001b[0m\u001b[0;34m:\u001b[0m\u001b[0;34m\u001b[0m\u001b[0m\n\u001b[0;32m----> 9\u001b[0;31m     \u001b[0mfake_gen_tr_M\u001b[0m\u001b[0;34m,\u001b[0m \u001b[0mfake_gen_Markov_dict\u001b[0m\u001b[0;34m,\u001b[0m \u001b[0mfake_gen_freq_dict\u001b[0m\u001b[0;34m,\u001b[0m \u001b[0mfake_gen_zeri_list\u001b[0m \u001b[0;34m=\u001b[0m \u001b[0mestrai_matrice\u001b[0m\u001b[0;34m(\u001b[0m\u001b[0mtext\u001b[0m\u001b[0;34m[\u001b[0m\u001b[0;34m:\u001b[0m\u001b[0mLll\u001b[0m\u001b[0;34m]\u001b[0m\u001b[0;34m)\u001b[0m\u001b[0;34m\u001b[0m\u001b[0m\n\u001b[0m\u001b[1;32m     10\u001b[0m     \u001b[0mz_err\u001b[0m\u001b[0;34m=\u001b[0m\u001b[0;36m0.\u001b[0m\u001b[0;34m\u001b[0m\u001b[0m\n\u001b[1;32m     11\u001b[0m     \u001b[0;32mfor\u001b[0m \u001b[0mpattern\u001b[0m \u001b[0;32min\u001b[0m \u001b[0mzeri_list\u001b[0m\u001b[0;34m:\u001b[0m\u001b[0;34m\u001b[0m\u001b[0m\n",
        "\u001b[0;32m<ipython-input-30-d63f6e54d63d>\u001b[0m in \u001b[0;36mestrai_matrice\u001b[0;34m(text)\u001b[0m\n\u001b[1;32m     97\u001b[0m \u001b[0;34m\u001b[0m\u001b[0m\n\u001b[1;32m     98\u001b[0m \u001b[0;32mdef\u001b[0m \u001b[0mestrai_matrice\u001b[0m\u001b[0;34m(\u001b[0m\u001b[0mtext\u001b[0m\u001b[0;34m)\u001b[0m\u001b[0;34m:\u001b[0m\u001b[0;34m\u001b[0m\u001b[0m\n\u001b[0;32m---> 99\u001b[0;31m     \u001b[0;32mreturn\u001b[0m \u001b[0mestrai_matrice_0\u001b[0m\u001b[0;34m(\u001b[0m\u001b[0mtext\u001b[0m\u001b[0;34m,\u001b[0m \u001b[0mlen\u001b[0m\u001b[0;34m(\u001b[0m\u001b[0mtext\u001b[0m\u001b[0;34m)\u001b[0m\u001b[0;34m,\u001b[0m \u001b[0mverbose\u001b[0m\u001b[0;34m=\u001b[0m\u001b[0mFalse\u001b[0m\u001b[0;34m)\u001b[0m\u001b[0;34m\u001b[0m\u001b[0m\n\u001b[0m\u001b[1;32m    100\u001b[0m \u001b[0;34m\u001b[0m\u001b[0m\n\u001b[1;32m    101\u001b[0m \u001b[0mtr_M\u001b[0m\u001b[0;34m,\u001b[0m \u001b[0mMarkov_dict\u001b[0m\u001b[0;34m,\u001b[0m \u001b[0mfreq_dict\u001b[0m\u001b[0;34m,\u001b[0m \u001b[0mzeri_list\u001b[0m \u001b[0;34m=\u001b[0m \u001b[0mestrai_matrice_0\u001b[0m\u001b[0;34m(\u001b[0m\u001b[0mmarkov_text\u001b[0m\u001b[0;34m[\u001b[0m\u001b[0;34m:\u001b[0m\u001b[0;36m10000\u001b[0m\u001b[0;34m]\u001b[0m\u001b[0;34m,\u001b[0m \u001b[0;36m2000\u001b[0m\u001b[0;34m,\u001b[0m \u001b[0mverbose\u001b[0m\u001b[0;34m=\u001b[0m\u001b[0mFalse\u001b[0m\u001b[0;34m)\u001b[0m\u001b[0;34m\u001b[0m\u001b[0m\n",
        "\u001b[0;32m<ipython-input-30-d63f6e54d63d>\u001b[0m in \u001b[0;36mestrai_matrice_0\u001b[0;34m(markov_text, L, verbose)\u001b[0m\n\u001b[1;32m     66\u001b[0m                         \u001b[0;32mprint\u001b[0m\u001b[0;34m(\u001b[0m\u001b[0mi\u001b[0m\u001b[0;34m,\u001b[0m\u001b[0ms\u001b[0m\u001b[0;34m)\u001b[0m\u001b[0;34m\u001b[0m\u001b[0m\n\u001b[1;32m     67\u001b[0m                         \u001b[0;32mbreak\u001b[0m\u001b[0;34m\u001b[0m\u001b[0m\n\u001b[0;32m---> 68\u001b[0;31m                 \u001b[0mM_2_to_1\u001b[0m\u001b[0;34m[\u001b[0m\u001b[0mchar2id\u001b[0m\u001b[0;34m(\u001b[0m\u001b[0ms\u001b[0m\u001b[0;34m)\u001b[0m\u001b[0;34m,\u001b[0m\u001b[0mchar2id\u001b[0m\u001b[0;34m(\u001b[0m\u001b[0mmarkov_text\u001b[0m\u001b[0;34m[\u001b[0m\u001b[0mi\u001b[0m\u001b[0;34m+\u001b[0m\u001b[0mr\u001b[0m\u001b[0;34m]\u001b[0m\u001b[0;34m)\u001b[0m\u001b[0;34m]\u001b[0m\u001b[0;34m+=\u001b[0m\u001b[0;36m1.\u001b[0m\u001b[0;34m\u001b[0m\u001b[0m\n\u001b[0m\u001b[1;32m     69\u001b[0m \u001b[0;34m\u001b[0m\u001b[0m\n\u001b[1;32m     70\u001b[0m \u001b[0;34m\u001b[0m\u001b[0m\n",
        "\u001b[0;32m<ipython-input-30-d63f6e54d63d>\u001b[0m in \u001b[0;36mchar2id\u001b[0;34m(char)\u001b[0m\n\u001b[1;32m     22\u001b[0m                 \u001b[0midn\u001b[0m \u001b[0;34m=\u001b[0m \u001b[0;36m0\u001b[0m\u001b[0;34m\u001b[0m\u001b[0m\n\u001b[1;32m     23\u001b[0m                 \u001b[0;32mfor\u001b[0m \u001b[0mi\u001b[0m \u001b[0;32min\u001b[0m \u001b[0mrange\u001b[0m\u001b[0;34m(\u001b[0m\u001b[0mlen\u001b[0m\u001b[0;34m(\u001b[0m\u001b[0mchar\u001b[0m\u001b[0;34m)\u001b[0m\u001b[0;34m)\u001b[0m\u001b[0;34m:\u001b[0m\u001b[0;34m\u001b[0m\u001b[0m\n\u001b[0;32m---> 24\u001b[0;31m                         \u001b[0midn\u001b[0m \u001b[0;34m+=\u001b[0m \u001b[0mstate_dict\u001b[0m\u001b[0;34m.\u001b[0m\u001b[0mindex\u001b[0m\u001b[0;34m(\u001b[0m\u001b[0mchar\u001b[0m\u001b[0;34m[\u001b[0m\u001b[0mlen\u001b[0m\u001b[0;34m(\u001b[0m\u001b[0mchar\u001b[0m\u001b[0;34m)\u001b[0m\u001b[0;34m-\u001b[0m\u001b[0mi\u001b[0m\u001b[0;34m-\u001b[0m\u001b[0;36m1\u001b[0m\u001b[0;34m]\u001b[0m\u001b[0;34m)\u001b[0m\u001b[0;34m*\u001b[0m\u001b[0;34m(\u001b[0m\u001b[0mn_states\u001b[0m\u001b[0;34m**\u001b[0m\u001b[0mi\u001b[0m\u001b[0;34m)\u001b[0m\u001b[0;34m\u001b[0m\u001b[0m\n\u001b[0m\u001b[1;32m     25\u001b[0m                 \u001b[0;32mreturn\u001b[0m \u001b[0midn\u001b[0m\u001b[0;34m\u001b[0m\u001b[0m\n\u001b[1;32m     26\u001b[0m \u001b[0;34m\u001b[0m\u001b[0m\n",
        "\u001b[0;31mKeyboardInterrupt\u001b[0m: "
       ]
      }
     ],
     "prompt_number": 71
    },
    {
     "cell_type": "code",
     "collapsed": false,
     "input": [
      "for i in [1000, 10000, 10000, 100000, 1000000, 9999900]:\n",
      "    fake_gen_tr_M, fake_gen_Markov_dict, fake_gen_freq_dict, fake_gen_zeri_list = estrai_matrice(text[:i])\n",
      "    z_err=0.\n",
      "    for pattern in zeri_list:\n",
      "        z_err+=fake_gen_freq_dict[pattern]\n",
      "    print(i,'  ', z_err,'  ',  rate_difference(fake_gen_tr_M, gen_tr_M, gen_zeri_list))\n",
      "    # this gives an idea of how errors fall in time\n",
      "    # have to make texts long at least 100 000 to see difference with r'<r Markov case"
     ],
     "language": "python",
     "metadata": {},
     "outputs": [
      {
       "output_type": "stream",
       "stream": "stdout",
       "text": [
        "(1000, '  ', 0.0, '  ', 0.34208027120043882)\n",
        "(10000, '  ', 0.0, '  ', 0.21073057429898304)"
       ]
      },
      {
       "output_type": "stream",
       "stream": "stdout",
       "text": [
        "\n",
        "(10000, '  ', 0.0, '  ', 0.21073057429898304)"
       ]
      },
      {
       "output_type": "stream",
       "stream": "stdout",
       "text": [
        "\n",
        "(100000, '  ', 0.0, '  ', 0.03871233124284762)"
       ]
      },
      {
       "output_type": "stream",
       "stream": "stdout",
       "text": [
        "\n",
        "(1000000, '  ', 0.0, '  ', 0.012694977589244358)"
       ]
      },
      {
       "output_type": "stream",
       "stream": "stdout",
       "text": [
        "\n",
        "(9999900, '  ', 0.0, '  ', 0.0039750547317680181)"
       ]
      },
      {
       "output_type": "stream",
       "stream": "stdout",
       "text": [
        "\n"
       ]
      }
     ],
     "prompt_number": 72
    },
    {
     "cell_type": "code",
     "collapsed": false,
     "input": [],
     "language": "python",
     "metadata": {},
     "outputs": []
    }
   ],
   "metadata": {}
  }
 ]
}