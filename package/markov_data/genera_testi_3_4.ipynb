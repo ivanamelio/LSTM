{
 "metadata": {
  "name": "",
  "signature": "sha256:20e0d8340d5ca6d27fd9b9dbc50aa8a039c68a7fdc3360ce46e949701b86f01b"
 },
 "nbformat": 3,
 "nbformat_minor": 0,
 "worksheets": [
  {
   "cells": [
    {
     "cell_type": "code",
     "collapsed": false,
     "input": [
      "#!/usr/bin/python\n",
      "\n",
      "\n",
      "# coding: utf-8\n",
      "\n",
      "#\n",
      "# Extract Markov transition probabilities (r=2) from the first 39 a, c, e, h  of wikipedia\n",
      "# and generate a fictious text, storing it in markov_text.txt\n",
      "#\n",
      "\n",
      "\n",
      "# These are all the modules we'll be using later. Make sure you can import them\n",
      "# before proceeding further.\n",
      "\n",
      "\n",
      "\n",
      "#argv = sys.argv\n",
      "#assert len(sys.argv) == 2from __future__ import print_function\n",
      "\n",
      "\n",
      "import os\n",
      "import datetime\n",
      "import numpy as np\n",
      "import random\n",
      "import string\n",
      "import tensorflow as tf\n",
      "import zipfile\n",
      "from six.moves import range\n",
      "from six.moves.urllib.request import urlretrieve\n",
      "import datetime\n",
      "import sys"
     ],
     "language": "python",
     "metadata": {},
     "outputs": []
    },
    {
     "cell_type": "code",
     "collapsed": false,
     "input": [
      "############## Markov states ############\n",
      "\n",
      "def read_data(filename):\n",
      "\tf = zipfile.ZipFile(filename)\n",
      "\tfor name in f.namelist():\n",
      "\t\treturn tf.compat.as_str(f.read(name))\n",
      "\tf.close()\n",
      "markov_text_0 = read_data('/home/ivan/Desktop/udacity_courses/corso_DL/tensorflow/tensorflow/examples/udacity/text8.zip')\n",
      "\n",
      "\n",
      "\n",
      "state_dict = ['a','c','e','h']        ##   <<<<<<<<---------------\n",
      "n_states = len(state_dict)\n",
      "\n",
      "def togli_altre_lettere(text):\n",
      "\tmarkov_text = ''\n",
      "\tfor i in range(len(text)):\n",
      "\t\tif text[i] in state_dict:\n",
      "\t\t\tmarkov_text+=text[i]\n",
      "\treturn markov_text\n",
      "markov_text = togli_altre_lettere(markov_text_0)"
     ],
     "language": "python",
     "metadata": {},
     "outputs": []
    },
    {
     "cell_type": "code",
     "collapsed": false,
     "input": [
      "print('='*10)\n",
      "print(markov_text[:160])\n",
      "print('='*10)"
     ],
     "language": "python",
     "metadata": {},
     "outputs": [
      {
       "output_type": "stream",
       "stream": "stdout",
       "text": [
        "==========\n",
        "aachaeaaeaeeaaeacaacacheeheeheaheaceheechehheeeaeaeaeceaachaeeeaeheaacehaaeeaeaaeaeeeeaachheaacheeheeehachecheaachaacahhheeehaeaeeceaaheaheahhheeaeeeeahaheaaach\n",
        "==========\n"
       ]
      }
     ],
     "prompt_number": 36
    },
    {
     "cell_type": "code",
     "collapsed": false,
     "input": [
      "argv = ['ttt', 3]\n",
      "r = argv[1] #memory\n",
      "\n",
      "\n",
      "\n",
      "\n",
      "\n",
      "# Utility functions to map characters to vocabulary IDs and back.\n",
      "\n",
      "# In[10]:\n",
      "\n",
      "############   character <-> number  functions\n",
      "\n",
      "vocabulary_size = n_states\n",
      "\n",
      "def char2id(char):\n",
      "\tif len(char) == 1:\n",
      "\t\treturn state_dict.index(char)\n",
      "\tif len(char) == 2:\n",
      "\t\treturn state_dict.index(char[0])*n_states+state_dict.index(char[1])\n",
      "\telse:\n",
      "\t\tidn = 0\n",
      "\t\tfor i in range(len(char)):\n",
      "\t\t\tidn += state_dict.index(char[len(char)-i-1])*(n_states**i)\n",
      "\t\treturn idn\n",
      "\n",
      "def id2char(num_id):  # inversa di char2id\n",
      "\treturn state_dict[num_id]\n",
      "\n",
      "def matrix_element2char(i):  # inversa di char2id\n",
      "\ts = ''\n",
      "\tfor j in range(r):\n",
      "\t\tk = r-j-1\n",
      "\t\tdivs = n_states**k\n",
      "\t\ts += state_dict[i/divs]\n",
      "\t\ti = i%divs\n",
      "\treturn s\n",
      "\n",
      "\n",
      "\n",
      "\n",
      "\n",
      "\n",
      "\n",
      "# In[11]:\n",
      "\n",
      "################   create Markov matrix from a short text, so to have some forbidden states and some forbidden transitions\n",
      "# warning! a state is forbidden iff has zero frequency in freq_dist\n",
      "# but this iff statement holds if the last two letters of the text had already appeared...\n",
      "\n",
      "#def togli_coda(text):\n",
      "#    coda = len(text)\n",
      "#    while coda >len(text)/2:\n",
      "#        for j in range(coda-2):\n",
      "#            if text[j]==text[coda-2] and text[j+1]==text[coda-1]:\n",
      "#                return text[:coda]\n",
      "#        coda = coda - 1\n",
      "#    assert 0 >1\n",
      "#print(togli_coda(markov_text[:40]))\n",
      "\n",
      "def estrai_matrice(markov_text, verbose=False):\n",
      "\tM_2_to_1 = np.zeros((n_states**r, n_states))\n",
      "\tfor i in range(len(markov_text)-r):\n",
      "\t\ts = markov_text[i:(i+r)]\n",
      "\t\tM_2_to_1[char2id(s),char2id(markov_text[i+r])]+=1.\n",
      "\n",
      "\n",
      "\tfreq_dict = {}\n",
      "\tzeri_list = []\n",
      "\tfor i in range(len(M_2_to_1)):\n",
      "\t\tfreq_dict[matrix_element2char(i)] =  np.sum(M_2_to_1[i,:])/np.sum(M_2_to_1)\n",
      "\t\tif verbose:\n",
      "\t\t\tsys.stderr.write('frequency  ' + matrix_element2char(i)+ '  ->  ' + str(freq_dict[matrix_element2char(i)]) +'\\n')\n",
      "\t\tif freq_dict[matrix_element2char(i)] == 0:   #pulisce eventuali righe di zeri\n",
      "\t\t\tzeri_list.append(matrix_element2char(i))\n",
      "\t\t\tfor j in range(len(M_2_to_1[0])):\n",
      "\t\t\t\tM_2_to_1[i,j] = 1.\n",
      "\n",
      "\n",
      "\tM_2_to_1 = M_2_to_1/np.sum(M_2_to_1, axis = 1)[:,None]\n",
      "    \n",
      "\tif verbose:\n",
      "\t\tfor i in range(len(M_2_to_1)):\n",
      "\t\t\tfor j in range(len(M_2_to_1[0])):\n",
      "\t\t\t\tsys.stderr.write('prob  ' + matrix_element2char(i) + '  ->  ' + id2char(j) + ' :  ' + '%.2f'  % M_2_to_1[i,j]+'\\n')\n",
      "\t#print(M_2_to_1)\n",
      "\n",
      "\tMarkov_dict = {}\n",
      "\tfor i in range(len(M_2_to_1)):\n",
      "\t\tMarkov_dict[matrix_element2char(i)] =  M_2_to_1[i,:]\n",
      "\t#print(Markov_dict)\n",
      "\treturn M_2_to_1, Markov_dict, freq_dict, zeri_list\n",
      "\n",
      "\n",
      "tr_M, Markov_dict, freq_dict, zeri_list = estrai_matrice(markov_text[:150])\n"
     ],
     "language": "python",
     "metadata": {},
     "outputs": [],
     "prompt_number": 72
    },
    {
     "cell_type": "code",
     "collapsed": false,
     "input": [
      "def Markov_choice(s, n_states, state_dict, Markov_dict):\n",
      "\trr = -np.random.rand()\n",
      "\tfor x in range(n_states):\n",
      "\t\trr += Markov_dict[s][x]\n",
      "\t\tif rr >= 0:\n",
      "\t\t\treturn state_dict[x]\n",
      "\n",
      "\n",
      "def genera_dati(L, n_states, state_dict, r, Markov_dict, inizio_markov_text):\n",
      "\ttext = inizio_markov_text\n",
      "\tfor i in range(r,L-1):\n",
      "\t\tnuovo=Markov_choice(text[(i-r):i], n_states, state_dict, Markov_dict)\n",
      "\t\ttext+=nuovo\n",
      "\treturn text\n",
      "text = genera_dati(10000000, n_states, state_dict, r, Markov_dict, markov_text[:r])   #.........  deve essere una stringa\n",
      "#datasize want to be order 10^8\n",
      "#print(text[:1000])\n",
      "gen_tr_M, gen_Markov_dict, gen_freq_dict, gen_zeri_list = estrai_matrice(text[:40000])  # e' essenziale per capire 1) se partendo da stato permesso a caso catena tocca tutti stati ammessi\n",
      "\t\t\t\t\t\t\t#2) non tocca stati proibiti\n",
      "# le frequenze di text non sono le stesse di\n",
      "\n",
      "\n",
      "with open('markov_text_mem=' + str(r) +'.txt', 'w') as myfile:\n",
      "    myfile.write(text)\n",
      "\n",
      "\n",
      "zeri_id = np.array(map(char2id, zeri_list))\n",
      "np.savez('chain_stats_mem=' + str(r) +'.npz', a=tr_M, b=zeri_id)\n",
      "\n"
     ],
     "language": "python",
     "metadata": {},
     "outputs": [],
     "prompt_number": 73
    },
    {
     "cell_type": "code",
     "collapsed": false,
     "input": [
      "print(set.symmetric_difference(set(zeri_list), set(gen_zeri_list)))\n",
      "print(gen_zeri_list==zeri_list)\n",
      "print(abs(tr_M-gen_tr_M).max())\n",
      "print(np.sqrt((((tr_M-gen_tr_M)**2)).mean()))\n",
      "f1 = np.array(freq_dict.values())\n",
      "f2 = np.array(gen_freq_dict.values())\n",
      "print(abs(f1-f2).max())\n",
      "print(np.sqrt((((f1-f2)**2)).mean()))"
     ],
     "language": "python",
     "metadata": {},
     "outputs": [
      {
       "output_type": "stream",
       "stream": "stdout",
       "text": [
        "set([])\n",
        "True\n",
        "0.044921875"
       ]
      },
      {
       "output_type": "stream",
       "stream": "stdout",
       "text": [
        "\n",
        "0.0072315694205\n",
        "0.0225416839928\n",
        "0.00649402995299\n"
       ]
      }
     ],
     "prompt_number": 74
    },
    {
     "cell_type": "code",
     "collapsed": false,
     "input": [
      "argv = ['ttt', 4]\n",
      "r = argv[1] #memory"
     ],
     "language": "python",
     "metadata": {},
     "outputs": [],
     "prompt_number": 75
    },
    {
     "cell_type": "code",
     "collapsed": false,
     "input": [
      "print(markov_text[580:600])\n",
      "tr_M, Markov_dict, freq_dict, zeri_list = estrai_matrice(markov_text[:600])"
     ],
     "language": "python",
     "metadata": {},
     "outputs": [
      {
       "output_type": "stream",
       "stream": "stdout",
       "text": [
        "eaeeehehheeheaeachee\n"
       ]
      }
     ],
     "prompt_number": 76
    },
    {
     "cell_type": "code",
     "collapsed": false,
     "input": [
      "text = genera_dati(10000000, n_states, state_dict, r, Markov_dict, markov_text[:r])   #.........  deve essere una stringa\n",
      "#datasize want to be order 10^8\n",
      "#print(text[:1000])\n",
      "gen_tr_M, gen_Markov_dict, gen_freq_dict, gen_zeri_list = estrai_matrice(text[:40000])  # e' essenziale per capire 1) se partendo da stato permesso a caso catena tocca tutti stati ammessi\n",
      "\t\t\t\t\t\t\t#2) non tocca stati proibiti\n",
      "# le frequenze di text non sono le stesse di\n",
      "\n",
      "\n",
      "with open('markov_text_mem=' + str(r) +'.txt', 'w') as myfile:\n",
      "    myfile.write(text)\n",
      "\n",
      "\n",
      "zeri_id = np.array(map(char2id, zeri_list))\n",
      "np.savez('chain_stats_mem=' + str(r) +'.npz', a=tr_M, b=zeri_id)\n",
      "\n"
     ],
     "language": "python",
     "metadata": {},
     "outputs": [],
     "prompt_number": 77
    },
    {
     "cell_type": "code",
     "collapsed": false,
     "input": [
      "print(set.symmetric_difference(set(zeri_list), set(gen_zeri_list)))\n",
      "print(gen_zeri_list==zeri_list)\n",
      "print(abs(tr_M-gen_tr_M).max())\n",
      "print(np.sqrt((((tr_M-gen_tr_M)**2)).mean()))\n",
      "f1 = np.array(freq_dict.values())\n",
      "f2 = np.array(gen_freq_dict.values())\n",
      "print(abs(f1-f2).max())\n",
      "print(np.sqrt((((f1-f2)**2)).mean()))"
     ],
     "language": "python",
     "metadata": {},
     "outputs": [
      {
       "output_type": "stream",
       "stream": "stdout",
       "text": [
        "set([])\n",
        "True\n",
        "0.111510791367\n",
        "0.0150368121182\n",
        "0.00589728277098\n",
        "0.0013794009768\n"
       ]
      }
     ],
     "prompt_number": 78
    },
    {
     "cell_type": "code",
     "collapsed": false,
     "input": [
      "########  how much a Markov generated text actually depends on long-time dependences?\n",
      "\n",
      "r = 4\n",
      "_,_,_,_ = estrai_matrice(markov_text[:600])\n",
      "text = genera_dati(10000000, n_states, state_dict, r, Markov_dict, markov_text[:r])\n",
      "gen_tr_M, gen_Markov_dict, gen_freq_dict, gen_zeri_list = estrai_matrice(text[:400000])\n",
      "r=2\n",
      "fake_tr_M, fake_Markov_dict, fake_freq_dict, fake_zeri_list = estrai_matrice(text[:400000])\n",
      "text = genera_dati(10000000, n_states, state_dict, r, fake_Markov_dict, text[:r])\n",
      "r=4\n",
      "fake_gen_tr_M, fake_gen_Markov_dict, fake_gen_freq_dict, fake_gen_zeri_list = estrai_matrice(text[:400000])"
     ],
     "language": "python",
     "metadata": {},
     "outputs": [],
     "prompt_number": 84
    },
    {
     "cell_type": "code",
     "collapsed": false,
     "input": [
      "print(set.symmetric_difference(set(zeri_list), set(gen_zeri_list)))\n",
      "print(gen_zeri_list==zeri_list)\n",
      "print(abs(tr_M-gen_tr_M).max())\n",
      "print(np.sqrt((((tr_M-gen_tr_M)**2)).mean()))\n",
      "f1 = np.array(freq_dict.values())\n",
      "f2 = np.array(gen_freq_dict.values())\n",
      "print(abs(f1-f2).max())\n",
      "print(np.sqrt((((f1-f2)**2)).mean()))"
     ],
     "language": "python",
     "metadata": {},
     "outputs": [
      {
       "output_type": "stream",
       "stream": "stdout",
       "text": [
        "set([])\n",
        "True\n",
        "0.0240601503759\n",
        "0.00428919677624\n",
        "0.00605652475852\n",
        "0.00133437341069\n"
       ]
      }
     ],
     "prompt_number": 85
    },
    {
     "cell_type": "code",
     "collapsed": false,
     "input": [
      "print(set.symmetric_difference(set(fake_gen_zeri_list), set(gen_zeri_list)))\n",
      "print(gen_zeri_list==fake_gen_zeri_list)\n",
      "print(abs(fake_gen_tr_M-gen_tr_M).max())\n",
      "print(np.sqrt((((fake_gen_tr_M-gen_tr_M)**2)).mean()))\n",
      "f1 = np.array(fake_gen_freq_dict.values())\n",
      "f2 = np.array(gen_freq_dict.values())\n",
      "print(abs(f1-f2).max())\n",
      "print(np.sqrt((((f1-f2)**2)).mean()))"
     ],
     "language": "python",
     "metadata": {},
     "outputs": [
      {
       "output_type": "stream",
       "stream": "stdout",
       "text": [
        "set(['echc', 'cchc', 'hchh', 'echh', 'hchc', 'hcha', 'hehc', 'hacc', 'chha', 'chhh', 'caha', 'ahhe', 'ahha', 'cchh', 'hahh', 'caca', 'aheh', 'haeh', 'ahac', 'haec', 'ceeh', 'ccha', 'ecce', 'hcec', 'cehc', 'eehc', 'aaec', 'haah', 'hhaa', 'hhec', 'acee', 'ehhh', 'hhah', 'hhhh', 'aahh', 'hhha', 'aecc', 'caah', 'caae', 'ehec', 'ccah', 'ccea', 'ehch', 'ccec', 'ccac', 'cceh', 'eacc', 'ecaa', 'acch', 'hhae', 'heca', 'hecc', 'aech'])\n",
        "False\n",
        "0.972685887709\n",
        "0.2571608775\n",
        "0.00832317753488\n",
        "0.00193947626783\n"
       ]
      }
     ],
     "prompt_number": 87
    },
    {
     "cell_type": "code",
     "collapsed": false,
     "input": [
      "text = genera_dati(400009, n_states, state_dict, r, gen_Markov_dict, markov_text[:r])\n",
      "gen_tr_M_2, gen_Markov_dict_2, gen_freq_dict_2, gen_zeri_list_2 = estrai_matrice(text[:400000])\n",
      "print(set.symmetric_difference(set(gen_zeri_list_2), set(gen_zeri_list)))\n",
      "print(gen_zeri_list==gen_zeri_list_2)\n",
      "print(abs(gen_tr_M_2-gen_tr_M).max())\n",
      "print(np.sqrt((((gen_tr_M_2-gen_tr_M)**2)).mean()))\n",
      "f1 = np.array(gen_freq_dict_2.values())\n",
      "f2 = np.array(gen_freq_dict.values())\n",
      "print(abs(f1-f2).max())\n",
      "print(np.sqrt((((f1-f2)**2)).mean()))\n",
      "#valori di riferimento r=4, r'=4   <<<<<<<<<<<<<<<<<<<<<<<<<<<<<<<<<<--------------------------------------------------------"
     ],
     "language": "python",
     "metadata": {},
     "outputs": [
      {
       "output_type": "stream",
       "stream": "stdout",
       "text": [
        "set([])\n",
        "True\n",
        "0.0306473864304\n",
        "0.00423370333572\n",
        "0.000827111257709\n",
        "0.00011178663818\n"
       ]
      }
     ],
     "prompt_number": 88
    },
    {
     "cell_type": "code",
     "collapsed": false,
     "input": [
      "print(set.symmetric_difference(set(fake_gen_zeri_list), set(gen_zeri_list_2)))\n",
      "print(gen_zeri_list_2==fake_gen_zeri_list)\n",
      "print(abs(fake_gen_tr_M-gen_tr_M_2).max())\n",
      "print(np.sqrt((((fake_gen_tr_M-gen_tr_M_2)**2)).mean()))\n",
      "f1 = np.array(fake_gen_freq_dict.values())\n",
      "f2 = np.array(gen_freq_dict_2.values())\n",
      "print(abs(f1-f2).max())\n",
      "print(np.sqrt((((f1-f2)**2)).mean()))"
     ],
     "language": "python",
     "metadata": {},
     "outputs": [
      {
       "output_type": "stream",
       "stream": "stdout",
       "text": [
        "set(['echc', 'cchc', 'hchh', 'echh', 'hchc', 'hcha', 'hehc', 'hacc', 'chha', 'chhh', 'caha', 'ahhe', 'ahha', 'cchh', 'hahh', 'caca', 'aheh', 'haeh', 'ahac', 'haec', 'ceeh', 'ccha', 'ecce', 'hcec', 'cehc', 'eehc', 'aaec', 'haah', 'hhaa', 'hhec', 'acee', 'ehhh', 'hhah', 'hhhh', 'aahh', 'hhha', 'aecc', 'caah', 'caae', 'ehec', 'ccah', 'ccea', 'ehch', 'ccec', 'ccac', 'cceh', 'eacc', 'ecaa', 'acch', 'hhae', 'heca', 'hecc', 'aech'])\n",
        "False\n",
        "0.972685887709\n",
        "0.25719065694\n",
        "0.00797571922988\n",
        "0.00194807920724\n"
       ]
      }
     ],
     "prompt_number": 89
    },
    {
     "cell_type": "code",
     "collapsed": false,
     "input": [
      "#so: inferring a Markov model with r=4 using a r=2 model gives statistically relevant errors:\n",
      "# error in transition rates x100\n",
      "# error in transition rates x10\n",
      "# error in forbidden states:\n",
      "z_err=0.\n",
      "for pattern in zeri_list:\n",
      "    z_err+=fake_gen_freq_dict[pattern]\n",
      "print(z_err)"
     ],
     "language": "python",
     "metadata": {},
     "outputs": [
      {
       "output_type": "stream",
       "stream": "stdout",
       "text": [
        "0.0505965986965\n"
       ]
      }
     ],
     "prompt_number": 92
    },
    {
     "cell_type": "code",
     "collapsed": false,
     "input": [
      "### remake the same with r=4, r' = 2\n",
      "r = 4\n",
      "_,_,_,_ = estrai_matrice(markov_text[:600])\n",
      "text = genera_dati(10000000, n_states, state_dict, r, Markov_dict, markov_text[:r])\n",
      "gen_tr_M, gen_Markov_dict, gen_freq_dict, gen_zeri_list = estrai_matrice(text[:400000])\n",
      "r=3\n",
      "fake_tr_M, fake_Markov_dict, fake_freq_dict, fake_zeri_list = estrai_matrice(text[:400000])\n",
      "text = genera_dati(10000000, n_states, state_dict, r, fake_Markov_dict, text[:r])\n",
      "r=4\n",
      "fake_gen_tr_M, fake_gen_Markov_dict, fake_gen_freq_dict, fake_gen_zeri_list = estrai_matrice(text[:400000])"
     ],
     "language": "python",
     "metadata": {},
     "outputs": [],
     "prompt_number": 95
    },
    {
     "cell_type": "code",
     "collapsed": false,
     "input": [
      "print(set.symmetric_difference(set(fake_gen_zeri_list), set(gen_zeri_list)))\n",
      "print(gen_zeri_list==fake_gen_zeri_list)\n",
      "print(abs(fake_gen_tr_M-gen_tr_M).max())\n",
      "print(np.sqrt((((fake_gen_tr_M-gen_tr_M)**2)).mean()))\n",
      "f1 = np.array(fake_gen_freq_dict.values())\n",
      "f2 = np.array(gen_freq_dict.values())\n",
      "print(abs(f1-f2).max())\n",
      "print(np.sqrt((((f1-f2)**2)).mean()))"
     ],
     "language": "python",
     "metadata": {},
     "outputs": [
      {
       "output_type": "stream",
       "stream": "stdout",
       "text": [
        "set([])\n",
        "True\n",
        "0.875562218891\n",
        "0.204366009921\n",
        "0.000592192060129\n",
        "0.000116212548058\n"
       ]
      }
     ],
     "prompt_number": 96
    },
    {
     "cell_type": "code",
     "collapsed": false,
     "input": [
      "# you see that the r=4, r'=3 model are statistically distinguishable as to the transition rates, but not from the frequences nor z_errors!"
     ],
     "language": "python",
     "metadata": {},
     "outputs": []
    }
   ],
   "metadata": {}
  }
 ]
}