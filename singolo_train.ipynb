{
 "metadata": {
  "name": "",
  "signature": "sha256:83381c38e0c12418b56e783db04172b7c094f313bd9ec3fd5a142348315a5d31"
 },
 "nbformat": 3,
 "nbformat_minor": 0,
 "worksheets": [
  {
   "cells": [
    {
     "cell_type": "code",
     "collapsed": false,
     "input": [
      "from package.dependences import *\n",
      "import package.metriche as mtr\n",
      "\n",
      "argv = ['none','120','output_gate=no', '1.', '18000']\n",
      "\n",
      "Lgt = 400000\n",
      "num_nodes = int(argv[1])\n",
      "out_gate = argv[2]\n",
      "dropout_par = float(argv[3])\n",
      "n_train_steps = int(argv[4])\n",
      "batch_size=64\n",
      "num_unrollings=10\n",
      "\n",
      "with open('package/markov_data/markov_text_mem='+str(r)+'.txt', 'r') as myfile:\n",
      "    text=myfile.read()\n",
      "chain_stats = np.load('package/markov_data/chain_stats_mem='+str(r)+'.npz')\n",
      "M_2_to_1 = chain_stats['a']\n",
      "zeri_list = map(matrix_element2char, chain_stats['b'].tolist())"
     ],
     "language": "python",
     "metadata": {},
     "outputs": [],
     "prompt_number": 18
    },
    {
     "cell_type": "code",
     "collapsed": false,
     "input": [
      "valid_size = 2000  \n",
      "valid_text = text[:valid_size]\n",
      "train_text = text[valid_size:]\n",
      "execfile('package/lstm.py')\n",
      "save_path = train_lstm(pars, graph, train_text, valid_text)\n",
      "LSTM_text = genera_testo(Lgt, graph, save_path)"
     ],
     "language": "python",
     "metadata": {},
     "outputs": [
      {
       "output_type": "stream",
       "stream": "stderr",
       "text": [
        "Initialized\n",
        "Average loss at step 0: 1.392045 learning rate: 10.000000   \n"
       ]
      },
      {
       "output_type": "stream",
       "stream": "stderr",
       "text": [
        "Minibatch perplexity: 4.02  \n",
        "Validation set perplexity: 8.21    \n"
       ]
      },
      {
       "output_type": "stream",
       "stream": "stderr",
       "text": [
        "Average loss at step 400: 2.356309 learning rate: 10.000000   \n",
        "Minibatch perplexity: 6.39  \n",
        "Validation set perplexity: 5.44    \n"
       ]
      },
      {
       "output_type": "stream",
       "stream": "stderr",
       "text": [
        "Average loss at step 800: 1.818345 learning rate: 10.000000   \n",
        "Minibatch perplexity: 5.73  \n",
        "Validation set perplexity: 4.74    \n"
       ]
      },
      {
       "output_type": "stream",
       "stream": "stderr",
       "text": [
        "Average loss at step 1200: 1.812046 learning rate: 10.000000   \n",
        "Minibatch perplexity: 7.11  \n",
        "Validation set perplexity: 6.38    \n"
       ]
      },
      {
       "output_type": "stream",
       "stream": "stderr",
       "text": [
        "Average loss at step 1600: 1.810935 learning rate: 10.000000   \n",
        "Minibatch perplexity: 7.16  \n",
        "Validation set perplexity: 5.33    \n"
       ]
      },
      {
       "output_type": "stream",
       "stream": "stderr",
       "text": [
        "Average loss at step 2000: 1.793971 learning rate: 10.000000   \n",
        "Minibatch perplexity: 6.21  \n",
        "Validation set perplexity: 5.64    \n"
       ]
      },
      {
       "output_type": "stream",
       "stream": "stderr",
       "text": [
        "Average loss at step 2400: 1.791672 learning rate: 10.000000   \n",
        "Minibatch perplexity: 9.29  \n",
        "Validation set perplexity: 4.53    \n"
       ]
      },
      {
       "output_type": "stream",
       "stream": "stderr",
       "text": [
        "Average loss at step 2800: 1.766455 learning rate: 10.000000   \n",
        "Minibatch perplexity: 6.51  \n",
        "Validation set perplexity: 5.03    \n"
       ]
      },
      {
       "output_type": "stream",
       "stream": "stderr",
       "text": [
        "Average loss at step 3200: 1.736802 learning rate: 10.000000   \n",
        "Minibatch perplexity: 4.23  \n",
        "Validation set perplexity: 4.10    \n"
       ]
      },
      {
       "output_type": "stream",
       "stream": "stderr",
       "text": [
        "Average loss at step 3600: 1.686131 learning rate: 10.000000   \n",
        "Minibatch perplexity: 3.94  \n",
        "Validation set perplexity: 4.73    \n"
       ]
      },
      {
       "output_type": "stream",
       "stream": "stderr",
       "text": [
        "Average loss at step 4000: 1.634695 learning rate: 10.000000   \n",
        "Minibatch perplexity: 3.82  \n",
        "Validation set perplexity: 4.31    \n"
       ]
      },
      {
       "output_type": "stream",
       "stream": "stderr",
       "text": [
        "Average loss at step 4400: 1.584935 learning rate: 10.000000   \n",
        "Minibatch perplexity: 5.32  \n",
        "Validation set perplexity: 5.33    \n"
       ]
      },
      {
       "output_type": "stream",
       "stream": "stderr",
       "text": [
        "Average loss at step 4800: 1.528080 learning rate: 10.000000   \n",
        "Minibatch perplexity: 4.45  \n",
        "Validation set perplexity: 4.42    \n"
       ]
      },
      {
       "output_type": "stream",
       "stream": "stderr",
       "text": [
        "Average loss at step 5200: 1.259921 learning rate: 1.000000   \n",
        "Minibatch perplexity: 2.79  \n",
        "Validation set perplexity: 2.77    \n"
       ]
      },
      {
       "output_type": "stream",
       "stream": "stderr",
       "text": [
        "Average loss at step 5600: 1.020176 learning rate: 1.000000   \n",
        "Minibatch perplexity: 2.84  \n",
        "Validation set perplexity: 2.73    \n"
       ]
      },
      {
       "output_type": "stream",
       "stream": "stderr",
       "text": [
        "Average loss at step 6000: 1.013053 learning rate: 1.000000   \n",
        "Minibatch perplexity: 2.73  \n",
        "Validation set perplexity: 2.72    \n"
       ]
      },
      {
       "output_type": "stream",
       "stream": "stderr",
       "text": [
        "Average loss at step 6400: 1.004071 learning rate: 1.000000   \n",
        "Minibatch perplexity: 2.77  \n",
        "Validation set perplexity: 2.70    \n"
       ]
      },
      {
       "output_type": "stream",
       "stream": "stderr",
       "text": [
        "Average loss at step 6800: 1.000833 learning rate: 1.000000   \n",
        "Minibatch perplexity: 2.72  \n",
        "Validation set perplexity: 2.69    \n"
       ]
      },
      {
       "output_type": "stream",
       "stream": "stderr",
       "text": [
        "Average loss at step 7200: 0.996823 learning rate: 1.000000   \n",
        "Minibatch perplexity: 2.49  \n",
        "Validation set perplexity: 2.67    \n"
       ]
      },
      {
       "output_type": "stream",
       "stream": "stderr",
       "text": [
        "Average loss at step 7600: 0.991369 learning rate: 1.000000   \n",
        "Minibatch perplexity: 2.69  \n",
        "Validation set perplexity: 2.66    \n"
       ]
      },
      {
       "output_type": "stream",
       "stream": "stderr",
       "text": [
        "Average loss at step 8000: 0.986472 learning rate: 1.000000   \n",
        "Minibatch perplexity: 2.69  \n",
        "Validation set perplexity: 2.66    \n"
       ]
      },
      {
       "output_type": "stream",
       "stream": "stderr",
       "text": [
        "Average loss at step 8400: 0.981881 learning rate: 1.000000   \n",
        "Minibatch perplexity: 2.73  \n",
        "Validation set perplexity: 2.65    \n"
       ]
      },
      {
       "output_type": "stream",
       "stream": "stderr",
       "text": [
        "Average loss at step 8800: 0.977407 learning rate: 1.000000   \n",
        "Minibatch perplexity: 2.69  \n",
        "Validation set perplexity: 2.62    \n"
       ]
      },
      {
       "output_type": "stream",
       "stream": "stderr",
       "text": [
        "Average loss at step 9200: 0.975177 learning rate: 1.000000   \n",
        "Minibatch perplexity: 2.66  \n",
        "Validation set perplexity: 2.61    \n"
       ]
      },
      {
       "output_type": "stream",
       "stream": "stderr",
       "text": [
        "Average loss at step 9600: 0.971189 learning rate: 1.000000   \n",
        "Minibatch perplexity: 2.56  \n",
        "Validation set perplexity: 2.61    \n"
       ]
      },
      {
       "output_type": "stream",
       "stream": "stderr",
       "text": [
        "Average loss at step 10000: 0.967204 learning rate: 0.100000   \n",
        "Minibatch perplexity: 2.70  \n",
        "Validation set perplexity: 2.59    \n"
       ]
      },
      {
       "output_type": "stream",
       "stream": "stderr",
       "text": [
        "Average loss at step 10400: 0.962065 learning rate: 0.100000   \n",
        "Minibatch perplexity: 2.55  \n",
        "Validation set perplexity: 2.59    \n"
       ]
      },
      {
       "output_type": "stream",
       "stream": "stderr",
       "text": [
        "Average loss at step 10800: 0.958654 learning rate: 0.100000   \n",
        "Minibatch perplexity: 2.67  \n",
        "Validation set perplexity: 2.58    \n"
       ]
      },
      {
       "output_type": "stream",
       "stream": "stderr",
       "text": [
        "Average loss at step 11200: 0.959445 learning rate: 0.100000   \n",
        "Minibatch perplexity: 2.51  \n",
        "Validation set perplexity: 2.58    \n"
       ]
      },
      {
       "output_type": "stream",
       "stream": "stderr",
       "text": [
        "Average loss at step 11600: 0.958258 learning rate: 0.100000   \n",
        "Minibatch perplexity: 2.58  \n",
        "Validation set perplexity: 2.58    \n"
       ]
      },
      {
       "output_type": "stream",
       "stream": "stderr",
       "text": [
        "Average loss at step 12000: 0.956656 learning rate: 0.100000   \n",
        "Minibatch perplexity: 2.67  \n",
        "Validation set perplexity: 2.58    \n"
       ]
      },
      {
       "output_type": "stream",
       "stream": "stderr",
       "text": [
        "Average loss at step 12400: 0.955478 learning rate: 0.100000   \n",
        "Minibatch perplexity: 2.69  \n",
        "Validation set perplexity: 2.58    \n"
       ]
      },
      {
       "output_type": "stream",
       "stream": "stderr",
       "text": [
        "Average loss at step 12800: 0.957261 learning rate: 0.100000   \n",
        "Minibatch perplexity: 2.60  \n",
        "Validation set perplexity: 2.58    \n"
       ]
      },
      {
       "output_type": "stream",
       "stream": "stderr",
       "text": [
        "Average loss at step 13200: 0.956234 learning rate: 0.100000   \n",
        "Minibatch perplexity: 2.65  \n",
        "Validation set perplexity: 2.58    \n"
       ]
      },
      {
       "output_type": "stream",
       "stream": "stderr",
       "text": [
        "Average loss at step 13600: 0.956095 learning rate: 0.100000   \n",
        "Minibatch perplexity: 2.61  \n",
        "Validation set perplexity: 2.58    \n"
       ]
      },
      {
       "output_type": "stream",
       "stream": "stderr",
       "text": [
        "Average loss at step 14000: 0.954740 learning rate: 0.100000   \n",
        "Minibatch perplexity: 2.67  \n",
        "Validation set perplexity: 2.58    \n"
       ]
      },
      {
       "output_type": "stream",
       "stream": "stderr",
       "text": [
        "Average loss at step 14400: 0.954461 learning rate: 0.100000   \n",
        "Minibatch perplexity: 2.59  \n",
        "Validation set perplexity: 2.57    \n"
       ]
      },
      {
       "output_type": "stream",
       "stream": "stderr",
       "text": [
        "Average loss at step 14800: 0.953365 learning rate: 0.100000   \n",
        "Minibatch perplexity: 2.64  \n",
        "Validation set perplexity: 2.58    \n"
       ]
      },
      {
       "output_type": "stream",
       "stream": "stderr",
       "text": [
        "Average loss at step 15200: 0.952132 learning rate: 0.010000   \n",
        "Minibatch perplexity: 2.64  \n",
        "Validation set perplexity: 2.57    \n"
       ]
      },
      {
       "output_type": "stream",
       "stream": "stderr",
       "text": [
        "Average loss at step 15600: 0.953288 learning rate: 0.010000   \n",
        "Minibatch perplexity: 2.60  \n",
        "Validation set perplexity: 2.57    \n"
       ]
      },
      {
       "output_type": "stream",
       "stream": "stderr",
       "text": [
        "Average loss at step 16000: 0.953342 learning rate: 0.010000   \n",
        "Minibatch perplexity: 2.68  \n",
        "Validation set perplexity: 2.57    \n"
       ]
      },
      {
       "output_type": "stream",
       "stream": "stderr",
       "text": [
        "Average loss at step 16400: 0.953195 learning rate: 0.010000   \n",
        "Minibatch perplexity: 2.63  \n",
        "Validation set perplexity: 2.57    \n"
       ]
      },
      {
       "output_type": "stream",
       "stream": "stderr",
       "text": [
        "Average loss at step 16800: 0.953029 learning rate: 0.010000   \n",
        "Minibatch perplexity: 2.62  \n",
        "Validation set perplexity: 2.57    \n"
       ]
      },
      {
       "output_type": "stream",
       "stream": "stderr",
       "text": [
        "Average loss at step 17200: 0.952442 learning rate: 0.010000   \n",
        "Minibatch perplexity: 2.64  \n",
        "Validation set perplexity: 2.57    \n"
       ]
      },
      {
       "output_type": "stream",
       "stream": "stderr",
       "text": [
        "Average loss at step 17600: 0.952460 learning rate: 0.010000   \n",
        "Minibatch perplexity: 2.67  \n",
        "Validation set perplexity: 2.57    \n"
       ]
      }
     ],
     "prompt_number": 19
    },
    {
     "cell_type": "code",
     "collapsed": false,
     "input": [
      "LSTM_2_to_1, _, LSTM_freq, _ = estrai_matrice(LSTM_text)\n",
      "\n",
      "L2_modif = mtr.L2_modif(M_2_to_1, LSTM_2_to_1, zeri_list)\n",
      "z_err = mtr.z_err(zeri_list, LSTM_freq)\n",
      "mtr.stampa_err(argv, L2_modif, z_err, Lgt)"
     ],
     "language": "python",
     "metadata": {},
     "outputs": [],
     "prompt_number": 20
    },
    {
     "cell_type": "code",
     "collapsed": false,
     "input": [
      "os.rename(save_path,'trained/markov_6_120.ckpt')\n",
      "np.savez('trained/stats_markov_6_120.npz', a=LSTM_2_to_1, b=LSTM_freq)"
     ],
     "language": "python",
     "metadata": {},
     "outputs": [],
     "prompt_number": 21
    },
    {
     "cell_type": "code",
     "collapsed": false,
     "input": [],
     "language": "python",
     "metadata": {},
     "outputs": [],
     "prompt_number": 21
    },
    {
     "cell_type": "code",
     "collapsed": false,
     "input": [],
     "language": "python",
     "metadata": {},
     "outputs": [],
     "prompt_number": 21
    }
   ],
   "metadata": {}
  }
 ]
}